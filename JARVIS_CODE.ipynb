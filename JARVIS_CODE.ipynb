{
 "cells": [
  {
   "cell_type": "code",
   "execution_count": 1,
   "id": "0c5924a2",
   "metadata": {},
   "outputs": [],
   "source": [
    "import os\n",
    "import time\n",
    "import subprocess\n",
    "import json"
   ]
  },
  {
   "cell_type": "code",
   "execution_count": 2,
   "id": "2db23500",
   "metadata": {},
   "outputs": [],
   "source": [
    "import wolframalpha\n",
    "import requests\n",
    "import webbrowser\n",
    "import wikipedia\n",
    "import datetime"
   ]
  },
  {
   "cell_type": "code",
   "execution_count": 3,
   "id": "f34ecccc",
   "metadata": {},
   "outputs": [],
   "source": [
    "import speech_recognition as sr\n",
    "import pyttsx3\n"
   ]
  },
  {
   "cell_type": "code",
   "execution_count": 4,
   "id": "1888c067",
   "metadata": {},
   "outputs": [
    {
     "name": "stdout",
     "output_type": "stream",
     "text": [
      "LOADING YOUR PERSONAL ASSISTANT JARVIS\n"
     ]
    }
   ],
   "source": [
    "print('LOADING YOUR PERSONAL ASSISTANT JARVIS')"
   ]
  },
  {
   "cell_type": "code",
   "execution_count": 5,
   "id": "78b7faa7",
   "metadata": {},
   "outputs": [],
   "source": [
    "engine = pyttsx3.init('sapi5')\n",
    "voices = engine.getProperty('voices')\n",
    "engine.setProperty(\"voice\",\"voices[0].id\")"
   ]
  },
  {
   "cell_type": "code",
   "execution_count": 6,
   "id": "88bc0156",
   "metadata": {},
   "outputs": [],
   "source": [
    "def speak(text):\n",
    "    engine.say(text)\n",
    "    engine.runAndWait()"
   ]
  },
  {
   "cell_type": "code",
   "execution_count": 7,
   "id": "1c498a7c",
   "metadata": {},
   "outputs": [],
   "source": [
    "def wishMe():\n",
    "    hour = datetime.datetime.now().hour\n",
    "    if hour>=0 and hour<12:\n",
    "        speak(\"Hello, good morning miss Anjali\")\n",
    "        print(\"Hello, good morning miss Anjali\")\n",
    "    elif hour >=12 and hour <=18:\n",
    "        speak(\"Hello, good afternoon miss Anjali\")\n",
    "        print(\"Hello, good afternoon miss Anjali\")\n",
    "    else:\n",
    "        speak(\"It's already night time better go to sleep\")\n",
    "        print(\"It's already night time better go to sleep\")"
   ]
  },
  {
   "cell_type": "code",
   "execution_count": 8,
   "id": "0f05dd9d",
   "metadata": {},
   "outputs": [],
   "source": [
    "def takeCommand():\n",
    "    r = sr.Recognizer()\n",
    "    with sr.Microphone() as source:\n",
    "        print(\"I AM LISTENING\")\n",
    "        audio = r.listen(source)\n",
    "        \n",
    "        try:\n",
    "            statement = r.recognize_google(audio,language='en-in')\n",
    "            print(f\"user said: {statement}\\n\")\n",
    "        except Exception as e:\n",
    "            speak(\"pardon me, please say that again\")\n",
    "            return\"None\"\n",
    "        return statement"
   ]
  },
  {
   "cell_type": "code",
   "execution_count": 9,
   "id": "d7d114cf",
   "metadata": {},
   "outputs": [
    {
     "name": "stdout",
     "output_type": "stream",
     "text": [
      "Hello, good afternoon miss Anjali\n"
     ]
    }
   ],
   "source": [
    "speak(\"LOADING YOURPERSONAL A.I. ASSISTANT JARVIS\")\n",
    "wishMe()"
   ]
  },
  {
   "cell_type": "code",
   "execution_count": null,
   "id": "b4b5d160",
   "metadata": {},
   "outputs": [
    {
     "name": "stdout",
     "output_type": "stream",
     "text": [
      "I AM LISTENING\n",
      "I AM LISTENING\n",
      "I AM LISTENING\n",
      "I AM LISTENING\n"
     ]
    }
   ],
   "source": [
    "if __name__ =='__main__':\n",
    "    while True:\n",
    "        speak(\"How can I help you?\")\n",
    "        statement= takeCommand().lower()\n",
    "        if statement ==0:\n",
    "            continue\n",
    "        if \"good bye\"in statement or \"ok bye\" in statement or \"stop\" in statement:\n",
    "            speak(\"Your peronal AI assistant JARVIS is shutting down, Good bye\")\n",
    "            print(\"Your peronal AI assistant JARVIS is shutting down, Good bye\")\n",
    "            break\n",
    "            \n",
    "        if 'wikipedia'in statement:\n",
    "            speak('searching wikipedia.....')\n",
    "            statement = statement.replace(\"wikipedia\",\" \")\n",
    "            results = wikipedia.summary(statement, sentences = 3)\n",
    "            speak(\"According to wikipedia......\")\n",
    "            print(result)\n",
    "            speak(result)\n",
    "        \n",
    "        elif \"open youtube\" in statement:\n",
    "            webbrowser.open_new_tab(\"https://www.youtube.com\")\n",
    "            speak(\"Youtube is open for you\")\n",
    "            time.sleep(5)\n",
    "            \n",
    "        elif \"open google\" in statement:\n",
    "            webbrowser.open_new_tab(\"https://www.google.com\")\n",
    "            speak(\"Google search is open for you\")\n",
    "            time.sleep(5)\n",
    "            \n",
    "        elif \"open gmail\" in statement:\n",
    "            webbrowser.open_new_tab('gamil.com')\n",
    "            speak(\"Your email is open for you\")\n",
    "            time.sleep(5)\n",
    "        \n",
    "        elif \"weather\" in statement:\n",
    "            api_key='8ef61edcf1c576d65d836254e11ea420'\n",
    "            base_url = 'https://api.openweathermap.org/data/2.5/weather?'\n",
    "            speak(\"what is the city name?\")\n",
    "            city_name = takeCommand()\n",
    "            complete_url = base_url+\"appid = \"+api_key+\"&q=\"+city_name\n",
    "            response = requests.get(complete_url)\n",
    "            x = response.json()\n",
    "            if x[\"cod\"]!= \"404\":\n",
    "                y = x[\"main\"]\n",
    "                current_temperature = y[\"temp\"]\n",
    "                current_humidity = y[\"humidity\"]\n",
    "                z= x[\"weather\"]\n",
    "                weather_description = z[0][\"description\"]\n",
    "                speak(\"The temperature in kelvin units is \"+str(current_temperature)+\"\\n Humidity in percentage is \"+ str(current_humidity)+'\\n weater discription'+str(weather_description))\n",
    "                print(\"The temperature in kelvin units is \"+str(current_temperature)+\"\\n Humidity in percentage is \"+ str(current_humidity)+'\\n weater discription'+str(weather_description))\n",
    "                \n",
    "            else:\n",
    "                print(\"City not found\")\n",
    "                speak(\"City not found\")\n",
    "                \n",
    "            \n",
    "        elif \"time\" in statement:\n",
    "            strTime =datatime.datatime.now().strftime(\"%H:%M:%S\")\n",
    "            speak(f\"time is {strTime}\")\n",
    "            \n",
    "        elif \"who are you\" in statement or \"what can you do \" in statement:\n",
    "            speak(\"I am JARVIS version 1 point 0 your personal assistant. I am programmed to minor tasks like\"\n",
    "                  'opening youtube, google,gmail and stack overflow, predict time, take a photo, search wikipedia'\n",
    "                 'predict weather in different cities, get top headline news from times of india and you can ask me computational or geographical questions too! ')\n",
    "            \n",
    "        elif \"who made you\" in statement or \"who created you\" in statement or \"who discovered you\" in statement:\n",
    "            speak(\"I was built by Anjali\")\n",
    "            print(\"I was built by Anjali\")\n",
    "            \n",
    "        elif \"open stack overflow\" in statement:\n",
    "            webbrowserrowser.open_new_tab(\"https://stackoverflow.com/login\")\n",
    "            time.sleep(5)\n",
    "            \n",
    "        elif \"news\" in statement:\n",
    "            news = webbrowser.open_new_tab(\"https://timesofindia.indiatimes.com/home/headlines\")\n",
    "            speak(\"here aresome headlines for you from times of India - happy reading\")\n",
    "            time.sleep(7)\n",
    "            \n",
    "        elif \"search\" in statement:\n",
    "            statement = statement.replace(\"search\",\" \")\n",
    "            webbrowser.open_new_tab(\"statement\")\n",
    "            time.sleep(5)\n",
    "            \n",
    "        elif 'ask' in statement:\n",
    "            speak(\"I can answer to computational and geographical questions too just try me  ! ! what you want to ask\")\n",
    "            question = takeCommand()\n",
    "            app_id= \"R2K75H-7ELALHR35X\"\n",
    "            client = wolframalpha.Client(\"R2K75H-7ELALHR35X\")\n",
    "            res = client.query(question)\n",
    "            answer = next(res.results).text\n",
    "            speak(ans)\n",
    "            print(ans)\n",
    "            \n",
    "        elif \"log off\" in statement or \"sign out\" in statement or \"shut down\" in statement:\n",
    "            speak(\"ok, your PC will shut down in 10 seconds - make sure you have saved and exit from all applications\")\n",
    "            subprocess.call(['shutdown','/1'])\n",
    "            \n",
    "time.sleep(3)\n",
    "            \n",
    "            \n"
   ]
  },
  {
   "cell_type": "code",
   "execution_count": null,
   "id": "9d106ac2",
   "metadata": {},
   "outputs": [],
   "source": []
  }
 ],
 "metadata": {
  "kernelspec": {
   "display_name": "Python 3 (ipykernel)",
   "language": "python",
   "name": "python3"
  },
  "language_info": {
   "codemirror_mode": {
    "name": "ipython",
    "version": 3
   },
   "file_extension": ".py",
   "mimetype": "text/x-python",
   "name": "python",
   "nbconvert_exporter": "python",
   "pygments_lexer": "ipython3",
   "version": "3.9.12"
  }
 },
 "nbformat": 4,
 "nbformat_minor": 5
}
