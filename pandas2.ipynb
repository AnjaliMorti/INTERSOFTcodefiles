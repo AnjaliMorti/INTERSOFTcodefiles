{
 "cells": [
  {
   "cell_type": "code",
   "execution_count": 2,
   "id": "e9428d75",
   "metadata": {},
   "outputs": [
    {
     "data": {
      "text/plain": [
       "'1.4.2'"
      ]
     },
     "execution_count": 2,
     "metadata": {},
     "output_type": "execute_result"
    }
   ],
   "source": [
    "import pandas\n",
    "pandas.__version__"
   ]
  },
  {
   "cell_type": "code",
   "execution_count": 3,
   "id": "5a090c2c",
   "metadata": {},
   "outputs": [],
   "source": [
    "import numpy as np\n",
    "import pandas as pd"
   ]
  },
  {
   "cell_type": "code",
   "execution_count": 4,
   "id": "58f5d59e",
   "metadata": {},
   "outputs": [
    {
     "data": {
      "text/html": [
       "<div>\n",
       "<style scoped>\n",
       "    .dataframe tbody tr th:only-of-type {\n",
       "        vertical-align: middle;\n",
       "    }\n",
       "\n",
       "    .dataframe tbody tr th {\n",
       "        vertical-align: top;\n",
       "    }\n",
       "\n",
       "    .dataframe thead th {\n",
       "        text-align: right;\n",
       "    }\n",
       "</style>\n",
       "<table border=\"1\" class=\"dataframe\">\n",
       "  <thead>\n",
       "    <tr style=\"text-align: right;\">\n",
       "      <th></th>\n",
       "      <th>foo</th>\n",
       "      <th>doo</th>\n",
       "    </tr>\n",
       "  </thead>\n",
       "  <tbody>\n",
       "    <tr>\n",
       "      <th>a</th>\n",
       "      <td>11</td>\n",
       "      <td>11</td>\n",
       "    </tr>\n",
       "    <tr>\n",
       "      <th>b</th>\n",
       "      <td>11</td>\n",
       "      <td>11</td>\n",
       "    </tr>\n",
       "    <tr>\n",
       "      <th>c</th>\n",
       "      <td>11</td>\n",
       "      <td>11</td>\n",
       "    </tr>\n",
       "  </tbody>\n",
       "</table>\n",
       "</div>"
      ],
      "text/plain": [
       "   foo  doo\n",
       "a   11   11\n",
       "b   11   11\n",
       "c   11   11"
      ]
     },
     "execution_count": 4,
     "metadata": {},
     "output_type": "execute_result"
    }
   ],
   "source": [
    "pd.DataFrame(np.random.randint(2,12),\n",
    "             columns = ['foo','doo'],\n",
    "             index =['a','b','c'])"
   ]
  },
  {
   "cell_type": "code",
   "execution_count": 5,
   "id": "49db3540",
   "metadata": {},
   "outputs": [
    {
     "data": {
      "text/plain": [
       "Int64Index([20, 34, 57, 7, 1, 8], dtype='int64')"
      ]
     },
     "execution_count": 5,
     "metadata": {},
     "output_type": "execute_result"
    }
   ],
   "source": [
    "#pandas index object\n",
    "ind = pd.Index([20,34,57,7,1,8])\n",
    "ind"
   ]
  },
  {
   "cell_type": "code",
   "execution_count": 6,
   "id": "3e79ce7d",
   "metadata": {},
   "outputs": [
    {
     "data": {
      "text/plain": [
       "34"
      ]
     },
     "execution_count": 6,
     "metadata": {},
     "output_type": "execute_result"
    }
   ],
   "source": [
    "ind[1]"
   ]
  },
  {
   "cell_type": "code",
   "execution_count": 7,
   "id": "30f90bd6",
   "metadata": {},
   "outputs": [
    {
     "data": {
      "text/plain": [
       "Int64Index([20, 34, 57, 7, 1, 8], dtype='int64')"
      ]
     },
     "execution_count": 7,
     "metadata": {},
     "output_type": "execute_result"
    }
   ],
   "source": [
    "ind[::]            #whole data is fetched"
   ]
  },
  {
   "cell_type": "code",
   "execution_count": 11,
   "id": "04ac3858",
   "metadata": {},
   "outputs": [
    {
     "data": {
      "text/plain": [
       "Int64Index([34, 1], dtype='int64')"
      ]
     },
     "execution_count": 11,
     "metadata": {},
     "output_type": "execute_result"
    }
   ],
   "source": [
    "ind[1:6:3]"
   ]
  },
  {
   "cell_type": "code",
   "execution_count": 12,
   "id": "ec3d2f1e",
   "metadata": {},
   "outputs": [
    {
     "data": {
      "text/plain": [
       "Int64Index([20, 34, 57, 7], dtype='int64')"
      ]
     },
     "execution_count": 12,
     "metadata": {},
     "output_type": "execute_result"
    }
   ],
   "source": [
    "ind[0:4]"
   ]
  },
  {
   "cell_type": "code",
   "execution_count": 8,
   "id": "dafb273d",
   "metadata": {},
   "outputs": [
    {
     "name": "stdout",
     "output_type": "stream",
     "text": [
      "6 (6,) 1 int64\n"
     ]
    }
   ],
   "source": [
    "print(ind.size, ind.shape, ind.ndim, ind.dtype)"
   ]
  },
  {
   "cell_type": "code",
   "execution_count": 9,
   "id": "897a9c46",
   "metadata": {},
   "outputs": [
    {
     "ename": "TypeError",
     "evalue": "Index does not support mutable operations",
     "output_type": "error",
     "traceback": [
      "\u001b[1;31m---------------------------------------------------------------------------\u001b[0m",
      "\u001b[1;31mTypeError\u001b[0m                                 Traceback (most recent call last)",
      "Input \u001b[1;32mIn [9]\u001b[0m, in \u001b[0;36m<cell line: 1>\u001b[1;34m()\u001b[0m\n\u001b[1;32m----> 1\u001b[0m ind[\u001b[38;5;241m1\u001b[39m]\u001b[38;5;241m=\u001b[39m\u001b[38;5;241m0\u001b[39m\n",
      "File \u001b[1;32m~\\anaconda3\\lib\\site-packages\\pandas\\core\\indexes\\base.py:5021\u001b[0m, in \u001b[0;36mIndex.__setitem__\u001b[1;34m(self, key, value)\u001b[0m\n\u001b[0;32m   5019\u001b[0m \u001b[38;5;129m@final\u001b[39m\n\u001b[0;32m   5020\u001b[0m \u001b[38;5;28;01mdef\u001b[39;00m \u001b[38;5;21m__setitem__\u001b[39m(\u001b[38;5;28mself\u001b[39m, key, value):\n\u001b[1;32m-> 5021\u001b[0m     \u001b[38;5;28;01mraise\u001b[39;00m \u001b[38;5;167;01mTypeError\u001b[39;00m(\u001b[38;5;124m\"\u001b[39m\u001b[38;5;124mIndex does not support mutable operations\u001b[39m\u001b[38;5;124m\"\u001b[39m)\n",
      "\u001b[1;31mTypeError\u001b[0m: Index does not support mutable operations"
     ]
    }
   ],
   "source": [
    "ind[1] = 0               #ind are immutable"
   ]
  },
  {
   "cell_type": "code",
   "execution_count": 14,
   "id": "16a0d458",
   "metadata": {},
   "outputs": [
    {
     "data": {
      "text/plain": [
       "RandomState(MT19937) at 0x2C8FDC05240"
      ]
     },
     "execution_count": 14,
     "metadata": {},
     "output_type": "execute_result"
    }
   ],
   "source": [
    "#Operations on Data in Panda\n",
    "#Ufuncs\n",
    "\n",
    "rng = np.random.RandomState(10)\n",
    "rng"
   ]
  },
  {
   "cell_type": "code",
   "execution_count": 17,
   "id": "916c308c",
   "metadata": {},
   "outputs": [
    {
     "data": {
      "text/plain": [
       "0    5\n",
       "1    3\n",
       "2    9\n",
       "3    6\n",
       "dtype: int32"
      ]
     },
     "execution_count": 17,
     "metadata": {},
     "output_type": "execute_result"
    }
   ],
   "source": [
    "ser = pd.Series(rng.randint(0,10,4))\n",
    "ser"
   ]
  },
  {
   "cell_type": "code",
   "execution_count": 16,
   "id": "6894a0dd",
   "metadata": {},
   "outputs": [
    {
     "data": {
      "text/html": [
       "<div>\n",
       "<style scoped>\n",
       "    .dataframe tbody tr th:only-of-type {\n",
       "        vertical-align: middle;\n",
       "    }\n",
       "\n",
       "    .dataframe tbody tr th {\n",
       "        vertical-align: top;\n",
       "    }\n",
       "\n",
       "    .dataframe thead th {\n",
       "        text-align: right;\n",
       "    }\n",
       "</style>\n",
       "<table border=\"1\" class=\"dataframe\">\n",
       "  <thead>\n",
       "    <tr style=\"text-align: right;\">\n",
       "      <th></th>\n",
       "      <th>A</th>\n",
       "      <th>B</th>\n",
       "      <th>C</th>\n",
       "      <th>D</th>\n",
       "    </tr>\n",
       "  </thead>\n",
       "  <tbody>\n",
       "    <tr>\n",
       "      <th>0</th>\n",
       "      <td>9</td>\n",
       "      <td>0</td>\n",
       "      <td>1</td>\n",
       "      <td>8</td>\n",
       "    </tr>\n",
       "    <tr>\n",
       "      <th>1</th>\n",
       "      <td>9</td>\n",
       "      <td>0</td>\n",
       "      <td>8</td>\n",
       "      <td>6</td>\n",
       "    </tr>\n",
       "    <tr>\n",
       "      <th>2</th>\n",
       "      <td>4</td>\n",
       "      <td>3</td>\n",
       "      <td>0</td>\n",
       "      <td>4</td>\n",
       "    </tr>\n",
       "    <tr>\n",
       "      <th>3</th>\n",
       "      <td>6</td>\n",
       "      <td>8</td>\n",
       "      <td>1</td>\n",
       "      <td>8</td>\n",
       "    </tr>\n",
       "    <tr>\n",
       "      <th>4</th>\n",
       "      <td>4</td>\n",
       "      <td>1</td>\n",
       "      <td>3</td>\n",
       "      <td>6</td>\n",
       "    </tr>\n",
       "  </tbody>\n",
       "</table>\n",
       "</div>"
      ],
      "text/plain": [
       "   A  B  C  D\n",
       "0  9  0  1  8\n",
       "1  9  0  8  6\n",
       "2  4  3  0  4\n",
       "3  6  8  1  8\n",
       "4  4  1  3  6"
      ]
     },
     "execution_count": 16,
     "metadata": {},
     "output_type": "execute_result"
    }
   ],
   "source": [
    "dfr = pd.DataFrame(rng.randint(0,10,(5,4)),\n",
    "                   columns = ['A','B','C','D'])\n",
    "dfr"
   ]
  },
  {
   "cell_type": "code",
   "execution_count": 18,
   "id": "20d5524d",
   "metadata": {},
   "outputs": [
    {
     "data": {
      "text/plain": [
       "0     148.413159\n",
       "1      20.085537\n",
       "2    8103.083928\n",
       "3     403.428793\n",
       "dtype: float64"
      ]
     },
     "execution_count": 18,
     "metadata": {},
     "output_type": "execute_result"
    }
   ],
   "source": [
    "np.exp(ser)"
   ]
  },
  {
   "cell_type": "code",
   "execution_count": 19,
   "id": "04e5e389",
   "metadata": {},
   "outputs": [
    {
     "data": {
      "text/html": [
       "<div>\n",
       "<style scoped>\n",
       "    .dataframe tbody tr th:only-of-type {\n",
       "        vertical-align: middle;\n",
       "    }\n",
       "\n",
       "    .dataframe tbody tr th {\n",
       "        vertical-align: top;\n",
       "    }\n",
       "\n",
       "    .dataframe thead th {\n",
       "        text-align: right;\n",
       "    }\n",
       "</style>\n",
       "<table border=\"1\" class=\"dataframe\">\n",
       "  <thead>\n",
       "    <tr style=\"text-align: right;\">\n",
       "      <th></th>\n",
       "      <th>A</th>\n",
       "      <th>B</th>\n",
       "      <th>C</th>\n",
       "      <th>D</th>\n",
       "    </tr>\n",
       "  </thead>\n",
       "  <tbody>\n",
       "    <tr>\n",
       "      <th>0</th>\n",
       "      <td>7.071068e-01</td>\n",
       "      <td>0.000000e+00</td>\n",
       "      <td>7.071068e-01</td>\n",
       "      <td>-2.449294e-16</td>\n",
       "    </tr>\n",
       "    <tr>\n",
       "      <th>1</th>\n",
       "      <td>7.071068e-01</td>\n",
       "      <td>0.000000e+00</td>\n",
       "      <td>-2.449294e-16</td>\n",
       "      <td>-1.000000e+00</td>\n",
       "    </tr>\n",
       "    <tr>\n",
       "      <th>2</th>\n",
       "      <td>1.224647e-16</td>\n",
       "      <td>7.071068e-01</td>\n",
       "      <td>0.000000e+00</td>\n",
       "      <td>1.224647e-16</td>\n",
       "    </tr>\n",
       "    <tr>\n",
       "      <th>3</th>\n",
       "      <td>-1.000000e+00</td>\n",
       "      <td>-2.449294e-16</td>\n",
       "      <td>7.071068e-01</td>\n",
       "      <td>-2.449294e-16</td>\n",
       "    </tr>\n",
       "    <tr>\n",
       "      <th>4</th>\n",
       "      <td>1.224647e-16</td>\n",
       "      <td>7.071068e-01</td>\n",
       "      <td>7.071068e-01</td>\n",
       "      <td>-1.000000e+00</td>\n",
       "    </tr>\n",
       "  </tbody>\n",
       "</table>\n",
       "</div>"
      ],
      "text/plain": [
       "              A             B             C             D\n",
       "0  7.071068e-01  0.000000e+00  7.071068e-01 -2.449294e-16\n",
       "1  7.071068e-01  0.000000e+00 -2.449294e-16 -1.000000e+00\n",
       "2  1.224647e-16  7.071068e-01  0.000000e+00  1.224647e-16\n",
       "3 -1.000000e+00 -2.449294e-16  7.071068e-01 -2.449294e-16\n",
       "4  1.224647e-16  7.071068e-01  7.071068e-01 -1.000000e+00"
      ]
     },
     "execution_count": 19,
     "metadata": {},
     "output_type": "execute_result"
    }
   ],
   "source": [
    "np.sin(dfr* np.pi /4)"
   ]
  },
  {
   "cell_type": "code",
   "execution_count": 21,
   "id": "337c7821",
   "metadata": {},
   "outputs": [
    {
     "name": "stdout",
     "output_type": "stream",
     "text": [
      "Alaska        1723337\n",
      "Texas          695662\n",
      "California     423967\n",
      "Name: area, dtype: int64\n"
     ]
    },
    {
     "data": {
      "text/plain": [
       "California    38332521\n",
       "Texas         26448193\n",
       "New York      19651127\n",
       "Name: population, dtype: int64"
      ]
     },
     "execution_count": 21,
     "metadata": {},
     "output_type": "execute_result"
    }
   ],
   "source": [
    "#Universal fun index alignment\n",
    "area = pd.Series({'Alaska': 1723337, 'Texas':695662,\n",
    "                 'California':423967},name = 'area')\n",
    "popn= pd.Series({'California':38332521,'Texas':26448193,\n",
    "                'New York':19651127},name = 'population')\n",
    "print(area)\n",
    "popn"
   ]
  },
  {
   "cell_type": "code",
   "execution_count": 22,
   "id": "5bcbe39b",
   "metadata": {},
   "outputs": [
    {
     "data": {
      "text/plain": [
       "Alaska              NaN\n",
       "California    90.413926\n",
       "New York            NaN\n",
       "Texas         38.018740\n",
       "dtype: float64"
      ]
     },
     "execution_count": 22,
     "metadata": {},
     "output_type": "execute_result"
    }
   ],
   "source": [
    "popn/area"
   ]
  },
  {
   "cell_type": "code",
   "execution_count": 24,
   "id": "43000de0",
   "metadata": {},
   "outputs": [
    {
     "name": "stderr",
     "output_type": "stream",
     "text": [
      "C:\\Users\\ASUS\\AppData\\Local\\Temp\\ipykernel_10100\\384068274.py:1: FutureWarning: Index.__or__ operating as a set operation is deprecated, in the future this will be a logical operation matching Series.__or__.  Use index.union(other) instead.\n",
      "  area.index | popn.index          #| is or oprn\n"
     ]
    },
    {
     "data": {
      "text/plain": [
       "Index(['Alaska', 'California', 'New York', 'Texas'], dtype='object')"
      ]
     },
     "execution_count": 24,
     "metadata": {},
     "output_type": "execute_result"
    }
   ],
   "source": [
    "area.index | popn.index          #| is or oprn"
   ]
  },
  {
   "cell_type": "code",
   "execution_count": 26,
   "id": "4be7a6c4",
   "metadata": {},
   "outputs": [
    {
     "name": "stdout",
     "output_type": "stream",
     "text": [
      "0    2\n",
      "1    4\n",
      "2    6\n",
      "dtype: int64\n",
      "1    1\n",
      "2    3\n",
      "3    5\n",
      "dtype: int64\n"
     ]
    },
    {
     "data": {
      "text/plain": [
       "0    NaN\n",
       "1    5.0\n",
       "2    9.0\n",
       "3    NaN\n",
       "dtype: float64"
      ]
     },
     "execution_count": 26,
     "metadata": {},
     "output_type": "execute_result"
    }
   ],
   "source": [
    "A = pd.Series([2,4,6], index = [0,1,2])\n",
    "B = pd.Series([1,3,5], index = [1,2,3])\n",
    "print(A)\n",
    "print(B)\n",
    "\n",
    "A+B"
   ]
  },
  {
   "cell_type": "code",
   "execution_count": 27,
   "id": "b1ffe9cf",
   "metadata": {},
   "outputs": [
    {
     "data": {
      "text/plain": [
       "0    2.0\n",
       "1    5.0\n",
       "2    9.0\n",
       "3    5.0\n",
       "dtype: float64"
      ]
     },
     "execution_count": 27,
     "metadata": {},
     "output_type": "execute_result"
    }
   ],
   "source": [
    "A.add(B,fill_value=0)            #NaN values are replaced with '0'"
   ]
  },
  {
   "cell_type": "code",
   "execution_count": 53,
   "id": "63a5a6a1",
   "metadata": {},
   "outputs": [
    {
     "data": {
      "text/html": [
       "<div>\n",
       "<style scoped>\n",
       "    .dataframe tbody tr th:only-of-type {\n",
       "        vertical-align: middle;\n",
       "    }\n",
       "\n",
       "    .dataframe tbody tr th {\n",
       "        vertical-align: top;\n",
       "    }\n",
       "\n",
       "    .dataframe thead th {\n",
       "        text-align: right;\n",
       "    }\n",
       "</style>\n",
       "<table border=\"1\" class=\"dataframe\">\n",
       "  <thead>\n",
       "    <tr style=\"text-align: right;\">\n",
       "      <th></th>\n",
       "      <th>Year</th>\n",
       "      <th>Province</th>\n",
       "      <th>Literacy</th>\n",
       "      <th>nonsense</th>\n",
       "      <th>Serie_aligned</th>\n",
       "    </tr>\n",
       "  </thead>\n",
       "  <tbody>\n",
       "    <tr>\n",
       "      <th>0</th>\n",
       "      <td>2013</td>\n",
       "      <td>FL</td>\n",
       "      <td>0.2</td>\n",
       "      <td>10065.000000</td>\n",
       "      <td>0</td>\n",
       "    </tr>\n",
       "    <tr>\n",
       "      <th>1</th>\n",
       "      <td>2014</td>\n",
       "      <td>FL</td>\n",
       "      <td>0.1</td>\n",
       "      <td>20140.000000</td>\n",
       "      <td>1</td>\n",
       "    </tr>\n",
       "    <tr>\n",
       "      <th>2</th>\n",
       "      <td>2013</td>\n",
       "      <td>NH</td>\n",
       "      <td>0.5</td>\n",
       "      <td>4026.000000</td>\n",
       "      <td>2</td>\n",
       "    </tr>\n",
       "    <tr>\n",
       "      <th>3</th>\n",
       "      <td>2014</td>\n",
       "      <td>NH</td>\n",
       "      <td>0.3</td>\n",
       "      <td>6713.333333</td>\n",
       "      <td>3</td>\n",
       "    </tr>\n",
       "    <tr>\n",
       "      <th>4</th>\n",
       "      <td>2014</td>\n",
       "      <td>ZH</td>\n",
       "      <td>0.5</td>\n",
       "      <td>4028.000000</td>\n",
       "      <td>4</td>\n",
       "    </tr>\n",
       "  </tbody>\n",
       "</table>\n",
       "</div>"
      ],
      "text/plain": [
       "   Year Province  Literacy      nonsense  Serie_aligned\n",
       "0  2013       FL       0.2  10065.000000              0\n",
       "1  2014       FL       0.1  20140.000000              1\n",
       "2  2013       NH       0.5   4026.000000              2\n",
       "3  2014       NH       0.3   6713.333333              3\n",
       "4  2014       ZH       0.5   4028.000000              4"
      ]
     },
     "execution_count": 53,
     "metadata": {},
     "output_type": "execute_result"
    }
   ],
   "source": [
    "#oprn b/w DataFrame and Series\n",
    "data = {'Province':['FL','FL','NH','NH','ZH'],\n",
    "        'Year':[2013,2014,2013,2014,2014],\n",
    "        'Literacy':[0.2,0.1,0.5,0.3,0.5]}\n",
    "data = pd.DataFrame(data)\n",
    "df = pd.DataFrame(data, columns = ['Year','Province','Literacy'])\n",
    "df['nonsense']=df.Year/df.Literacy\n",
    "df['Serie_aligned'] = pd.Series(range(5), index=[0,1,2,3,4])\n",
    "df"
   ]
  },
  {
   "cell_type": "code",
   "execution_count": 54,
   "id": "45ec3211",
   "metadata": {},
   "outputs": [
    {
     "data": {
      "text/html": [
       "<div>\n",
       "<style scoped>\n",
       "    .dataframe tbody tr th:only-of-type {\n",
       "        vertical-align: middle;\n",
       "    }\n",
       "\n",
       "    .dataframe tbody tr th {\n",
       "        vertical-align: top;\n",
       "    }\n",
       "\n",
       "    .dataframe thead th {\n",
       "        text-align: right;\n",
       "    }\n",
       "</style>\n",
       "<table border=\"1\" class=\"dataframe\">\n",
       "  <thead>\n",
       "    <tr style=\"text-align: right;\">\n",
       "      <th></th>\n",
       "      <th>Province</th>\n",
       "      <th>Populaion</th>\n",
       "    </tr>\n",
       "  </thead>\n",
       "  <tbody>\n",
       "    <tr>\n",
       "      <th>0</th>\n",
       "      <td>FL</td>\n",
       "      <td>100000</td>\n",
       "    </tr>\n",
       "    <tr>\n",
       "      <th>1</th>\n",
       "      <td>NH</td>\n",
       "      <td>200000</td>\n",
       "    </tr>\n",
       "    <tr>\n",
       "      <th>2</th>\n",
       "      <td>ZH</td>\n",
       "      <td>300000</td>\n",
       "    </tr>\n",
       "  </tbody>\n",
       "</table>\n",
       "</div>"
      ],
      "text/plain": [
       "  Province Populaion\n",
       "0       FL    100000\n",
       "1       NH    200000\n",
       "2       ZH    300000"
      ]
     },
     "execution_count": 54,
     "metadata": {},
     "output_type": "execute_result"
    }
   ],
   "source": [
    "df2 = pd.DataFrame({'Province':['FL','NH','ZH'], 'Populaion':['100000','200000','300000']})\n",
    "df2"
   ]
  },
  {
   "cell_type": "code",
   "execution_count": 55,
   "id": "de31e3c6",
   "metadata": {},
   "outputs": [
    {
     "data": {
      "text/html": [
       "<div>\n",
       "<style scoped>\n",
       "    .dataframe tbody tr th:only-of-type {\n",
       "        vertical-align: middle;\n",
       "    }\n",
       "\n",
       "    .dataframe tbody tr th {\n",
       "        vertical-align: top;\n",
       "    }\n",
       "\n",
       "    .dataframe thead th {\n",
       "        text-align: right;\n",
       "    }\n",
       "</style>\n",
       "<table border=\"1\" class=\"dataframe\">\n",
       "  <thead>\n",
       "    <tr style=\"text-align: right;\">\n",
       "      <th></th>\n",
       "      <th>Year</th>\n",
       "      <th>Province</th>\n",
       "      <th>Literacy</th>\n",
       "      <th>nonsense</th>\n",
       "      <th>Serie_aligned</th>\n",
       "      <th>Populaion</th>\n",
       "    </tr>\n",
       "  </thead>\n",
       "  <tbody>\n",
       "    <tr>\n",
       "      <th>0</th>\n",
       "      <td>2013</td>\n",
       "      <td>FL</td>\n",
       "      <td>0.2</td>\n",
       "      <td>10065.000000</td>\n",
       "      <td>0</td>\n",
       "      <td>100000</td>\n",
       "    </tr>\n",
       "    <tr>\n",
       "      <th>1</th>\n",
       "      <td>2014</td>\n",
       "      <td>FL</td>\n",
       "      <td>0.1</td>\n",
       "      <td>20140.000000</td>\n",
       "      <td>1</td>\n",
       "      <td>100000</td>\n",
       "    </tr>\n",
       "    <tr>\n",
       "      <th>2</th>\n",
       "      <td>2013</td>\n",
       "      <td>NH</td>\n",
       "      <td>0.5</td>\n",
       "      <td>4026.000000</td>\n",
       "      <td>2</td>\n",
       "      <td>200000</td>\n",
       "    </tr>\n",
       "    <tr>\n",
       "      <th>3</th>\n",
       "      <td>2014</td>\n",
       "      <td>NH</td>\n",
       "      <td>0.3</td>\n",
       "      <td>6713.333333</td>\n",
       "      <td>3</td>\n",
       "      <td>200000</td>\n",
       "    </tr>\n",
       "    <tr>\n",
       "      <th>4</th>\n",
       "      <td>2014</td>\n",
       "      <td>ZH</td>\n",
       "      <td>0.5</td>\n",
       "      <td>4028.000000</td>\n",
       "      <td>4</td>\n",
       "      <td>300000</td>\n",
       "    </tr>\n",
       "  </tbody>\n",
       "</table>\n",
       "</div>"
      ],
      "text/plain": [
       "   Year Province  Literacy      nonsense  Serie_aligned Populaion\n",
       "0  2013       FL       0.2  10065.000000              0    100000\n",
       "1  2014       FL       0.1  20140.000000              1    100000\n",
       "2  2013       NH       0.5   4026.000000              2    200000\n",
       "3  2014       NH       0.3   6713.333333              3    200000\n",
       "4  2014       ZH       0.5   4028.000000              4    300000"
      ]
     },
     "execution_count": 55,
     "metadata": {},
     "output_type": "execute_result"
    }
   ],
   "source": [
    "df.merge(df2)"
   ]
  },
  {
   "cell_type": "code",
   "execution_count": 57,
   "id": "a3de0a04",
   "metadata": {},
   "outputs": [
    {
     "data": {
      "text/html": [
       "<div>\n",
       "<style scoped>\n",
       "    .dataframe tbody tr th:only-of-type {\n",
       "        vertical-align: middle;\n",
       "    }\n",
       "\n",
       "    .dataframe tbody tr th {\n",
       "        vertical-align: top;\n",
       "    }\n",
       "\n",
       "    .dataframe thead th {\n",
       "        text-align: right;\n",
       "    }\n",
       "</style>\n",
       "<table border=\"1\" class=\"dataframe\">\n",
       "  <thead>\n",
       "    <tr style=\"text-align: right;\">\n",
       "      <th></th>\n",
       "      <th>Year</th>\n",
       "      <th>Province</th>\n",
       "      <th>Literacy</th>\n",
       "      <th>nonsense</th>\n",
       "      <th>Serie_aligned</th>\n",
       "      <th>Populaion</th>\n",
       "    </tr>\n",
       "  </thead>\n",
       "  <tbody>\n",
       "    <tr>\n",
       "      <th>0</th>\n",
       "      <td>2013</td>\n",
       "      <td>FL</td>\n",
       "      <td>0.2</td>\n",
       "      <td>10065.000000</td>\n",
       "      <td>0</td>\n",
       "      <td>100000</td>\n",
       "    </tr>\n",
       "    <tr>\n",
       "      <th>1</th>\n",
       "      <td>2014</td>\n",
       "      <td>FL</td>\n",
       "      <td>0.1</td>\n",
       "      <td>20140.000000</td>\n",
       "      <td>1</td>\n",
       "      <td>100000</td>\n",
       "    </tr>\n",
       "    <tr>\n",
       "      <th>2</th>\n",
       "      <td>2013</td>\n",
       "      <td>NH</td>\n",
       "      <td>0.5</td>\n",
       "      <td>4026.000000</td>\n",
       "      <td>2</td>\n",
       "      <td>200000</td>\n",
       "    </tr>\n",
       "    <tr>\n",
       "      <th>3</th>\n",
       "      <td>2014</td>\n",
       "      <td>NH</td>\n",
       "      <td>0.3</td>\n",
       "      <td>6713.333333</td>\n",
       "      <td>3</td>\n",
       "      <td>200000</td>\n",
       "    </tr>\n",
       "  </tbody>\n",
       "</table>\n",
       "</div>"
      ],
      "text/plain": [
       "   Year Province  Literacy      nonsense  Serie_aligned Populaion\n",
       "0  2013       FL       0.2  10065.000000              0    100000\n",
       "1  2014       FL       0.1  20140.000000              1    100000\n",
       "2  2013       NH       0.5   4026.000000              2    200000\n",
       "3  2014       NH       0.3   6713.333333              3    200000"
      ]
     },
     "execution_count": 57,
     "metadata": {},
     "output_type": "execute_result"
    }
   ],
   "source": [
    "df3 = pd.DataFrame({'Province':['FL','NH'], 'Populaion':['100000','200000']})\n",
    "df3\n",
    "df.merge(df3,right_on = 'Province',left_on='Province')"
   ]
  },
  {
   "cell_type": "code",
   "execution_count": 58,
   "id": "6e27a650",
   "metadata": {},
   "outputs": [
    {
     "data": {
      "text/html": [
       "<div>\n",
       "<style scoped>\n",
       "    .dataframe tbody tr th:only-of-type {\n",
       "        vertical-align: middle;\n",
       "    }\n",
       "\n",
       "    .dataframe tbody tr th {\n",
       "        vertical-align: top;\n",
       "    }\n",
       "\n",
       "    .dataframe thead th {\n",
       "        text-align: right;\n",
       "    }\n",
       "</style>\n",
       "<table border=\"1\" class=\"dataframe\">\n",
       "  <thead>\n",
       "    <tr style=\"text-align: right;\">\n",
       "      <th></th>\n",
       "      <th>Year</th>\n",
       "      <th>Province</th>\n",
       "      <th>Literacy</th>\n",
       "      <th>nonsense</th>\n",
       "      <th>Serie_aligned</th>\n",
       "      <th>Populaion</th>\n",
       "    </tr>\n",
       "  </thead>\n",
       "  <tbody>\n",
       "    <tr>\n",
       "      <th>0</th>\n",
       "      <td>2013.0</td>\n",
       "      <td>FL</td>\n",
       "      <td>0.2</td>\n",
       "      <td>10065.000000</td>\n",
       "      <td>0.0</td>\n",
       "      <td>100000</td>\n",
       "    </tr>\n",
       "    <tr>\n",
       "      <th>1</th>\n",
       "      <td>2014.0</td>\n",
       "      <td>FL</td>\n",
       "      <td>0.1</td>\n",
       "      <td>20140.000000</td>\n",
       "      <td>1.0</td>\n",
       "      <td>100000</td>\n",
       "    </tr>\n",
       "    <tr>\n",
       "      <th>2</th>\n",
       "      <td>2013.0</td>\n",
       "      <td>NH</td>\n",
       "      <td>0.5</td>\n",
       "      <td>4026.000000</td>\n",
       "      <td>2.0</td>\n",
       "      <td>200000</td>\n",
       "    </tr>\n",
       "    <tr>\n",
       "      <th>3</th>\n",
       "      <td>2014.0</td>\n",
       "      <td>NH</td>\n",
       "      <td>0.3</td>\n",
       "      <td>6713.333333</td>\n",
       "      <td>3.0</td>\n",
       "      <td>200000</td>\n",
       "    </tr>\n",
       "    <tr>\n",
       "      <th>4</th>\n",
       "      <td>2014.0</td>\n",
       "      <td>ZH</td>\n",
       "      <td>0.5</td>\n",
       "      <td>4028.000000</td>\n",
       "      <td>4.0</td>\n",
       "      <td>NaN</td>\n",
       "    </tr>\n",
       "    <tr>\n",
       "      <th>5</th>\n",
       "      <td>NaN</td>\n",
       "      <td>UT</td>\n",
       "      <td>NaN</td>\n",
       "      <td>NaN</td>\n",
       "      <td>NaN</td>\n",
       "      <td>50000</td>\n",
       "    </tr>\n",
       "  </tbody>\n",
       "</table>\n",
       "</div>"
      ],
      "text/plain": [
       "     Year Province  Literacy      nonsense  Serie_aligned Populaion\n",
       "0  2013.0       FL       0.2  10065.000000            0.0    100000\n",
       "1  2014.0       FL       0.1  20140.000000            1.0    100000\n",
       "2  2013.0       NH       0.5   4026.000000            2.0    200000\n",
       "3  2014.0       NH       0.3   6713.333333            3.0    200000\n",
       "4  2014.0       ZH       0.5   4028.000000            4.0       NaN\n",
       "5     NaN       UT       NaN           NaN            NaN     50000"
      ]
     },
     "execution_count": 58,
     "metadata": {},
     "output_type": "execute_result"
    }
   ],
   "source": [
    "df4 = pd.DataFrame({'Province':['FL','NH','UT'], 'Populaion':['100000','200000','50000']})\n",
    "df.merge(df4,how='outer')"
   ]
  },
  {
   "cell_type": "code",
   "execution_count": 59,
   "id": "9fd68dec",
   "metadata": {},
   "outputs": [
    {
     "name": "stdout",
     "output_type": "stream",
     "text": [
      "   Year Province  Literacy      nonsense  Serie_aligned\n",
      "0  2013       FL       0.2  10065.000000              0\n",
      "1  2014       FL       0.1  20140.000000              1\n",
      "2  2013       NH       0.5   4026.000000              2\n",
      "3  2014       NH       0.3   6713.333333              3\n",
      "4  2014       ZH       0.5   4028.000000              4\n"
     ]
    },
    {
     "data": {
      "text/html": [
       "<div>\n",
       "<style scoped>\n",
       "    .dataframe tbody tr th:only-of-type {\n",
       "        vertical-align: middle;\n",
       "    }\n",
       "\n",
       "    .dataframe tbody tr th {\n",
       "        vertical-align: top;\n",
       "    }\n",
       "\n",
       "    .dataframe thead th {\n",
       "        text-align: right;\n",
       "    }\n",
       "</style>\n",
       "<table border=\"1\" class=\"dataframe\">\n",
       "  <thead>\n",
       "    <tr style=\"text-align: right;\">\n",
       "      <th></th>\n",
       "      <th>Year</th>\n",
       "      <th>Province</th>\n",
       "      <th>Literacy</th>\n",
       "      <th>nonsense</th>\n",
       "      <th>Serie_aligned</th>\n",
       "      <th>Populaion</th>\n",
       "    </tr>\n",
       "  </thead>\n",
       "  <tbody>\n",
       "    <tr>\n",
       "      <th>0</th>\n",
       "      <td>2013</td>\n",
       "      <td>FL</td>\n",
       "      <td>0.2</td>\n",
       "      <td>10065.000000</td>\n",
       "      <td>0</td>\n",
       "      <td>100000</td>\n",
       "    </tr>\n",
       "    <tr>\n",
       "      <th>1</th>\n",
       "      <td>2013</td>\n",
       "      <td>FL</td>\n",
       "      <td>0.2</td>\n",
       "      <td>10065.000000</td>\n",
       "      <td>0</td>\n",
       "      <td>300000</td>\n",
       "    </tr>\n",
       "    <tr>\n",
       "      <th>2</th>\n",
       "      <td>2014</td>\n",
       "      <td>FL</td>\n",
       "      <td>0.1</td>\n",
       "      <td>20140.000000</td>\n",
       "      <td>1</td>\n",
       "      <td>100000</td>\n",
       "    </tr>\n",
       "    <tr>\n",
       "      <th>3</th>\n",
       "      <td>2014</td>\n",
       "      <td>FL</td>\n",
       "      <td>0.1</td>\n",
       "      <td>20140.000000</td>\n",
       "      <td>1</td>\n",
       "      <td>300000</td>\n",
       "    </tr>\n",
       "    <tr>\n",
       "      <th>4</th>\n",
       "      <td>2013</td>\n",
       "      <td>NH</td>\n",
       "      <td>0.5</td>\n",
       "      <td>4026.000000</td>\n",
       "      <td>2</td>\n",
       "      <td>200000</td>\n",
       "    </tr>\n",
       "    <tr>\n",
       "      <th>5</th>\n",
       "      <td>2014</td>\n",
       "      <td>NH</td>\n",
       "      <td>0.3</td>\n",
       "      <td>6713.333333</td>\n",
       "      <td>3</td>\n",
       "      <td>200000</td>\n",
       "    </tr>\n",
       "    <tr>\n",
       "      <th>6</th>\n",
       "      <td>2014</td>\n",
       "      <td>ZH</td>\n",
       "      <td>0.5</td>\n",
       "      <td>4028.000000</td>\n",
       "      <td>4</td>\n",
       "      <td>NaN</td>\n",
       "    </tr>\n",
       "  </tbody>\n",
       "</table>\n",
       "</div>"
      ],
      "text/plain": [
       "   Year Province  Literacy      nonsense  Serie_aligned Populaion\n",
       "0  2013       FL       0.2  10065.000000              0    100000\n",
       "1  2013       FL       0.2  10065.000000              0    300000\n",
       "2  2014       FL       0.1  20140.000000              1    100000\n",
       "3  2014       FL       0.1  20140.000000              1    300000\n",
       "4  2013       NH       0.5   4026.000000              2    200000\n",
       "5  2014       NH       0.3   6713.333333              3    200000\n",
       "6  2014       ZH       0.5   4028.000000              4       NaN"
      ]
     },
     "execution_count": 59,
     "metadata": {},
     "output_type": "execute_result"
    }
   ],
   "source": [
    "df5 = pd.DataFrame({'Province':['FL','NH','FL'], 'Populaion':['100000','200000','300000']})\n",
    "print(df)\n",
    "df.merge(df5,how='outer')"
   ]
  },
  {
   "cell_type": "code",
   "execution_count": 63,
   "id": "147a680f",
   "metadata": {},
   "outputs": [],
   "source": [
    "serie_a = pd.Series([np.nan,2.5,np.nan,3.5,4.5,np.nan],\n",
    "                   index = ['f','e','d','c','b','a'])\n",
    "serie_b = pd.Series(np.arange(len(serie_a), dtype=np.float64),\n",
    "                   index = ['f','e','d','c','b','a'])"
   ]
  },
  {
   "cell_type": "code",
   "execution_count": 64,
   "id": "3d75c4ac",
   "metadata": {},
   "outputs": [
    {
     "data": {
      "text/plain": [
       "f    NaN\n",
       "e    2.5\n",
       "d    NaN\n",
       "c    3.5\n",
       "b    4.5\n",
       "a    NaN\n",
       "dtype: float64"
      ]
     },
     "execution_count": 64,
     "metadata": {},
     "output_type": "execute_result"
    }
   ],
   "source": [
    "serie_a"
   ]
  },
  {
   "cell_type": "code",
   "execution_count": 65,
   "id": "c1839f83",
   "metadata": {},
   "outputs": [
    {
     "data": {
      "text/plain": [
       "f    0.0\n",
       "e    1.0\n",
       "d    2.0\n",
       "c    3.0\n",
       "b    4.0\n",
       "a    5.0\n",
       "dtype: float64"
      ]
     },
     "execution_count": 65,
     "metadata": {},
     "output_type": "execute_result"
    }
   ],
   "source": [
    "serie_b"
   ]
  },
  {
   "cell_type": "code",
   "execution_count": 66,
   "id": "beb1c596",
   "metadata": {},
   "outputs": [
    {
     "data": {
      "text/plain": [
       "f    0.0\n",
       "e    2.5\n",
       "d    2.0\n",
       "c    3.5\n",
       "b    4.5\n",
       "a    5.0\n",
       "dtype: float64"
      ]
     },
     "execution_count": 66,
     "metadata": {},
     "output_type": "execute_result"
    }
   ],
   "source": [
    "pd.Series(np.where(pd.isnull(serie_a), serie_b,serie_a), index = serie_a.index)"
   ]
  },
  {
   "cell_type": "code",
   "execution_count": 68,
   "id": "c2707451",
   "metadata": {},
   "outputs": [
    {
     "data": {
      "text/plain": [
       "f    0.0\n",
       "e    2.5\n",
       "d    2.0\n",
       "c    3.5\n",
       "b    4.5\n",
       "a    5.0\n",
       "dtype: float64"
      ]
     },
     "execution_count": 68,
     "metadata": {},
     "output_type": "execute_result"
    }
   ],
   "source": [
    "serie_a.combine_first(serie_b)"
   ]
  },
  {
   "cell_type": "code",
   "execution_count": null,
   "id": "19e256f0",
   "metadata": {},
   "outputs": [],
   "source": []
  }
 ],
 "metadata": {
  "kernelspec": {
   "display_name": "Python 3 (ipykernel)",
   "language": "python",
   "name": "python3"
  },
  "language_info": {
   "codemirror_mode": {
    "name": "ipython",
    "version": 3
   },
   "file_extension": ".py",
   "mimetype": "text/x-python",
   "name": "python",
   "nbconvert_exporter": "python",
   "pygments_lexer": "ipython3",
   "version": "3.9.12"
  }
 },
 "nbformat": 4,
 "nbformat_minor": 5
}
